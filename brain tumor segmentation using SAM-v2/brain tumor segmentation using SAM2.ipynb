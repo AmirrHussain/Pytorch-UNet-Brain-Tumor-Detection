{
  "metadata": {
    "kernelspec": {
      "language": "python",
      "display_name": "Python 3",
      "name": "python3"
    },
    "language_info": {
      "name": "python",
      "version": "3.10.14",
      "mimetype": "text/x-python",
      "codemirror_mode": {
        "name": "ipython",
        "version": 3
      },
      "pygments_lexer": "ipython3",
      "nbconvert_exporter": "python",
      "file_extension": ".py"
    },
    "kaggle": {
      "accelerator": "gpu",
      "dataSources": [],
      "dockerImageVersionId": 30787,
      "isInternetEnabled": true,
      "language": "python",
      "sourceType": "notebook",
      "isGpuEnabled": true
    },
    "colab": {
      "provenance": []
    }
  },
  "nbformat_minor": 0,
  "nbformat": 4,
  "cells": [
    {
      "cell_type": "code",
      "source": [
        "import numpy as np\n",
        "import pandas as pd\n",
        "import os\n",
        "import cv2\n",
        "import matplotlib.pyplot as plt\n",
        "import seaborn as sns\n",
        "from tqdm.notebook import tqdm\n",
        "import random\n",
        "import torch\n",
        "import torch.nn as nn\n",
        "import torch.nn.functional as F\n",
        "from torch.utils.data import Dataset, DataLoader\n",
        "import albumentations as A\n",
        "from albumentations.pytorch import ToTensorV2\n",
        "from sklearn.model_selection import train_test_splitl"
      ],
      "metadata": {
        "_uuid": "1221a149-1be9-402e-b90a-5c69557222b9",
        "_cell_guid": "8b99fa27-a170-464c-b2d6-cc64c8d52e0a",
        "jupyter": {
          "outputs_hidden": false
        },
        "trusted": true,
        "id": "igw3mVbi1rqs"
      },
      "execution_count": null,
      "outputs": []
    },
    {
      "cell_type": "code",
      "source": [
        "plt.style.use(\"dark_background\")\n",
        "!pip install git+https://github.com/facebookresearch/segment-anything-2.git\n",
        "!pip install -q git+https://github.com/huggingface/transformers.git"
      ],
      "metadata": {
        "id": "PTRxg_NR1rq-"
      },
      "execution_count": null,
      "outputs": []
    },
    {
      "cell_type": "code",
      "source": [
        "BASE_PATH = \"/kaggle/input/lgg-mri-segmentation/kaggle_3m\"\n",
        "BASE_LEN = 89\n",
        "END_LEN = 4\n",
        "END_MASK_LEN = 9\n",
        "IMG_SIZE = 512"
      ],
      "metadata": {
        "id": "TDCL9VvA1rrB"
      },
      "execution_count": null,
      "outputs": []
    },
    {
      "cell_type": "code",
      "source": [
        "def load_data(base_path):\n",
        "    data = []\n",
        "    for dir_ in os.listdir(base_path):\n",
        "        dir_path = os.path.join(base_path, dir_)\n",
        "        if os.path.isdir(dir_path):\n",
        "            for filename in os.listdir(dir_path):\n",
        "                img_path = os.path.join(dir_path, filename)\n",
        "                data.append([dir_, img_path])\n",
        "        else:\n",
        "            print(f\"[INFO] This is not a directory --> {dir_path}\")\n",
        "    return pd.DataFrame(data, columns=[\"dir_name\", \"image_path\"])"
      ],
      "metadata": {
        "id": "Jg5PBFV01rrB"
      },
      "execution_count": null,
      "outputs": []
    },
    {
      "cell_type": "code",
      "source": [
        "df = load_data(BASE_PATH)\n",
        "df_imgs = df[~df[\"image_path\"].str.contains(\"mask\")]\n",
        "df_masks = df[df[\"image_path\"].str.contains(\"mask\")]\n",
        "imgs = sorted(df_imgs[\"image_path\"].values, key=lambda x: int(x[BASE_LEN: -END_LEN]))\n",
        "masks = sorted(df_masks[\"image_path\"].values, key=lambda x: int(x[BASE_LEN: -END_MASK_LEN]))"
      ],
      "metadata": {
        "id": "9qakCg8q1rrB"
      },
      "execution_count": null,
      "outputs": []
    },
    {
      "cell_type": "code",
      "source": [
        "dff = pd.DataFrame({\n",
        "    \"patient\": df_imgs.dir_name.values,\n",
        "    \"image_path\": imgs,\n",
        "    \"mask_path\": masks\n",
        "})"
      ],
      "metadata": {
        "id": "yKb7RQX31rrB"
      },
      "execution_count": null,
      "outputs": []
    },
    {
      "cell_type": "code",
      "source": [
        "def check_patient(mask_path):\n",
        "    val = np.max(cv2.imread(mask_path))\n",
        "    return 1 if val > 0 else 0\n",
        "\n",
        "dff[\"diagnosis\"] = dff[\"mask_path\"].apply(lambda x: check_patient(x))"
      ],
      "metadata": {
        "id": "J9all62N1rrB"
      },
      "execution_count": null,
      "outputs": []
    },
    {
      "cell_type": "code",
      "source": [
        "def get_bounding_box(ground_truth_map):\n",
        "    y_indices, x_indices = np.where(ground_truth_map > 0)\n",
        "    if len(x_indices) == 0:\n",
        "        return [0, 0, 0, 0]\n",
        "\n",
        "    x_min, x_max = np.min(x_indices), np.max(x_indices)\n",
        "    y_min, y_max = np.min(y_indices), np.max(y_indices)\n",
        "\n",
        "    H, W = ground_truth_map.shape\n",
        "    x_min = max(0, x_min - np.random.randint(0, 20))\n",
        "    x_max = min(W, x_max + np.random.randint(0, 20))\n",
        "    y_min = max(0, y_min - np.random.randint(0, 20))\n",
        "    y_max = min(H, y_max + np.random.randint(0, 20))\n",
        "    return [x_min, y_min, x_max, y_max]"
      ],
      "metadata": {
        "id": "v3VMN6gz1rrB"
      },
      "execution_count": null,
      "outputs": []
    },
    {
      "cell_type": "code",
      "source": [
        "from segment_anything_2 import Sam2Processor, Sam2Model, Sam2Config\n",
        "\n",
        "class SAM2Dataset(Dataset):\n",
        "    def __init__(self, df, processor):\n",
        "        self.df = df\n",
        "        self.processor = processor\n",
        "\n",
        "    def __len__(self):\n",
        "        return len(self.df)\n",
        "\n",
        "    def __getitem__(self, idx):\n",
        "        image = cv2.imread(self.df.iloc[idx, 1])\n",
        "        mask = cv2.imread(self.df.iloc[idx, 2], 0)\n",
        "        ground_truth_mask = np.array(mask)\n",
        "        prompt = get_bounding_box(ground_truth_mask)\n",
        "\n",
        "        inputs = self.processor(image, input_boxes=[[prompt]], return_tensors=\"pt\")\n",
        "        inputs = {k: v.squeeze(0) for k, v in inputs.items()}\n",
        "        inputs[\"ground_truth_mask\"] = ground_truth_mask\n",
        "\n",
        "        return inputs"
      ],
      "metadata": {
        "id": "IhLD5ROz1rrQ"
      },
      "execution_count": null,
      "outputs": []
    },
    {
      "cell_type": "code",
      "source": [
        "processor = Sam2Processor.from_pretrained(\"facebook/sam2\")\n",
        "\n",
        "train_df, val_df = train_test_split(dff, stratify=dff.diagnosis, test_size=0.1)\n",
        "train_df = train_df.reset_index(drop=True)\n",
        "val_df = val_df.reset_index(drop=True)\n",
        "train_df, test_df = train_test_split(train_df, stratify=train_df.diagnosis, test_size=0.12)\n",
        "train_df = train_df.reset_index(drop=True)\n",
        "\n",
        "train_dataset = SAM2Dataset(train_df, processor)\n",
        "val_dataset = SAM2Dataset(val_df, processor)\n",
        "test_dataset = SAM2Dataset(test_df, processor)\n",
        "\n",
        "batch_size = 4\n",
        "lr = 1e-4\n",
        "\n",
        "train_loader = DataLoader(train_dataset, batch_size=batch_size, shuffle=True, drop_last=False)\n",
        "val_loader = DataLoader(val_dataset, batch_size=batch_size, shuffle=True, drop_last=False)\n",
        "test_loader = DataLoader(test_dataset, batch_size=batch_size, shuffle=True, drop_last=False)\n",
        "\n",
        "model = Sam2Model.from_pretrained(\"facebook/sam2\")\n",
        "\n",
        "for name, param in model.named_parameters():\n",
        "    if name.startswith(\"vision_encoder\") or name.startswith(\"prompt_encoder\"):\n",
        "        param.requires_grad_(False)"
      ],
      "metadata": {
        "id": "JRVy_ESc1rrV"
      },
      "execution_count": null,
      "outputs": []
    },
    {
      "cell_type": "code",
      "source": [
        "from torch.optim import Adam\n",
        "import monai\n",
        "from tqdm import tqdm\n",
        "from statistics import mean\n",
        "\n",
        "optimizer = Adam(model.mask_decoder.parameters(), lr=1e-5, weight_decay=0)\n",
        "seg_loss = monai.losses.DiceCELoss(sigmoid=True, squared_pred=True, reduction='mean')\n",
        "\n",
        "num_epochs = 3\n",
        "device = \"cuda\" if torch.cuda.is_available() else \"cpu\"\n",
        "model.to(device)\n",
        "model.train()\n",
        "\n",
        "for epoch in range(num_epochs):\n",
        "    epoch_losses = []\n",
        "    for batch in tqdm(train_loader):\n",
        "        outputs = model(\n",
        "            pixel_values=batch[\"pixel_values\"].to(device),\n",
        "            input_boxes=batch[\"input_boxes\"].to(device),\n",
        "            multimask_output=False\n",
        "        )\n",
        "\n",
        "        predicted_masks = outputs.pred_masks.squeeze(1)\n",
        "        ground_truth_masks = batch[\"ground_truth_mask\"].float().to(device)\n",
        "        loss = seg_loss(predicted_masks, ground_truth_masks.unsqueeze(1))\n",
        "\n",
        "        optimizer.zero_grad()\n",
        "        loss.backward()\n",
        "        optimizer.step()\n",
        "        epoch_losses.append(loss.item())\n",
        "\n",
        "    print(f'EPOCH: {epoch}')\n",
        "    print(f'Mean loss: {mean(epoch_losses)}')\n",
        "\n",
        "path = \"files/\"\n",
        "if not os.path.exists(path):\n",
        "    os.makedirs(path)\n",
        "checkpoints_path = \"files/sam2_model.pth\"\n",
        "\n",
        "torch.save(model.state_dict(), checkpoints_path)\n",
        "\n",
        "model_config = Sam2Config.from_pretrained(\"facebook/sam2\")\n",
        "processor = Sam2Processor.from_pretrained(\"facebook/sam2\")\n",
        "my_mito_model = Sam2Model(config=model_config)\n",
        "my_mito_model.load_state_dict(torch.load(checkpoints_path))\n",
        "my_mito_model.to(device)\n",
        "\n",
        "def evaluate_and_visualize(image, mask, model, processor, device):\n",
        "    prompt = get_bounding_box(mask)\n",
        "    inputs = processor(image, input_boxes=[[prompt]], return_tensors=\"pt\")\n",
        "    inputs = {k: v.to(device) for k, v in inputs.items()}\n",
        "\n",
        "    model.eval()\n",
        "    with torch.no_grad():\n",
        "        outputs = model(**inputs, multimask_output=False)\n",
        "\n",
        "    seg_prob = torch.sigmoid(outputs.pred_masks.squeeze(1))\n",
        "    seg_prob = seg_prob.cpu().numpy().squeeze()\n",
        "    seg_mask = (seg_prob > 0.5).astype(np.uint8)\n",
        "\n",
        "    return seg_mask, seg_prob\n",
        "\n",
        "num_samples = 3\n",
        "fig, axes = plt.subplots(num_samples, 3, figsize=(15, 5*num_samples))\n",
        "\n",
        "for i in range(num_samples):\n",
        "    idx = random.randint(0, len(imgs)-1)\n",
        "    img_path = imgs[idx]\n",
        "    mask_path = masks[idx]\n",
        "\n",
        "    img_test = cv2.imread(img_path)\n",
        "    mask_test = cv2.imread(mask_path, 0)\n",
        "\n",
        "    seg_mask, seg_prob = evaluate_and_visualize(img_test, mask_test, my_mito_model, processor, device)\n",
        "\n",
        "    axes[i, 0].imshow(np.array(img_test))\n",
        "    axes[i, 0].set_title(\"Image\")\n",
        "    axes[i, 1].imshow(seg_mask)\n",
        "    axes[i, 1].set_title(\"Segmentation Mask\")\n",
        "    axes[i, 2].imshow(seg_prob)\n",
        "    axes[i, 2].set_title(\"Probability Map\")\n",
        "\n",
        "    for ax in axes[i]:\n",
        "        ax.set_xticks([])\n",
        "        ax.set_yticks([])\n",
        "        ax.set_xticklabels([])\n",
        "        ax.set_yticklabels([])\n",
        "\n",
        "plt.tight_layout()\n",
        "plt.show()"
      ],
      "metadata": {
        "id": "R56ApuA01rrW"
      },
      "execution_count": null,
      "outputs": []
    }
  ]
}